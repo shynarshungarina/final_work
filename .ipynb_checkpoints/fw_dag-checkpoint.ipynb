{
 "cells": [
  {
   "cell_type": "code",
   "execution_count": null,
   "id": "7374a700",
   "metadata": {},
   "outputs": [],
   "source": [
    "import datetime as dt\n",
    "import os\n",
    "import sys\n",
    "\n",
    "from airflow.models import DAG\n",
    "from airflow.operators.python import PythonOperator\n",
    "\n",
    "path = os.path.expanduser('~/final_work')\n",
    "# Добавим путь к коду проекта в переменную окружения, чтобы он был доступен python-процессу\n",
    "os.environ['PROJECT_PATH'] = path\n",
    "# Добавим путь к коду проекта в $PATH, чтобы импортировать функции\n",
    "sys.path.insert(0, path)\n",
    "\n",
    "from modules.pipeline import pipeline\n",
    "from modules.load import load\n",
    "\n",
    "args = {\n",
    "    'owner': 'airflow',\n",
    "    'start_date': dt.datetime(2024, 1, 30),\n",
    "    'retries': 1,\n",
    "    'retry_delay': dt.timedelta(minutes=1),\n",
    "    'depends_on_past': False,\n",
    "}\n",
    "\n",
    "with DAG(\n",
    "        dag_id='load_new_data',\n",
    "        schedule_interval=\"00 30 * * *\",\n",
    "        default_args=args,\n",
    ") as dag:\n",
    "    pipeline = PythonOperator(\n",
    "        task_id='pipeline',\n",
    "        python_callable=pipeline,\n",
    "    )\n",
    "    load = PythonOperator(\n",
    "        task_id='load',\n",
    "        python_callable=load,\n",
    "    )\n",
    "\n",
    "    pipeline >> load"
   ]
  }
 ],
 "metadata": {
  "kernelspec": {
   "display_name": "Python 3 (ipykernel)",
   "language": "python",
   "name": "python3"
  },
  "language_info": {
   "codemirror_mode": {
    "name": "ipython",
    "version": 3
   },
   "file_extension": ".py",
   "mimetype": "text/x-python",
   "name": "python",
   "nbconvert_exporter": "python",
   "pygments_lexer": "ipython3",
   "version": "3.11.5"
  }
 },
 "nbformat": 4,
 "nbformat_minor": 5
}
