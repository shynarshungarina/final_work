{
 "cells": [
  {
   "cell_type": "code",
   "execution_count": 41,
   "id": "d46dba22",
   "metadata": {},
   "outputs": [],
   "source": [
    "import logging\n",
    "import os\n",
    "import pandas as pd\n",
    "import json\n",
    "from glob import glob\n",
    "from sklearn.preprocessing import OneHotEncoder\n",
    "from sklearn.preprocessing import StandardScaler"
   ]
  },
  {
   "cell_type": "code",
   "execution_count": 2,
   "id": "b9cf6650",
   "metadata": {},
   "outputs": [],
   "source": [
    "path = os.environ.get('PROJECT_PATH', '.')"
   ]
  },
  {
   "cell_type": "code",
   "execution_count": 23,
   "id": "6501385f",
   "metadata": {},
   "outputs": [
    {
     "name": "stdout",
     "output_type": "stream",
     "text": [
      "<class 'pandas.core.frame.DataFrame'>\n",
      "RangeIndex: 338474 entries, 0 to 338473\n",
      "Data columns (total 28 columns):\n",
      " #   Column                    Non-Null Count   Dtype \n",
      "---  ------                    --------------   ----- \n",
      " 0   session_id                338474 non-null  object\n",
      " 1   hit_date                  338474 non-null  object\n",
      " 2   hit_time                  338474 non-null  object\n",
      " 3   hit_number                338474 non-null  int64 \n",
      " 4   hit_type                  338474 non-null  object\n",
      " 5   hit_referer               15326 non-null   object\n",
      " 6   hit_page_path             338474 non-null  object\n",
      " 7   event_category            338474 non-null  object\n",
      " 8   event_action              338474 non-null  object\n",
      " 9   event_label               158370 non-null  object\n",
      " 10  event_value               0 non-null       object\n",
      " 11  client_id                 338474 non-null  object\n",
      " 12  visit_date                338474 non-null  object\n",
      " 13  visit_time                338474 non-null  object\n",
      " 14  visit_number              338474 non-null  int64 \n",
      " 15  utm_source                338473 non-null  object\n",
      " 16  utm_medium                338474 non-null  object\n",
      " 17  utm_campaign              302141 non-null  object\n",
      " 18  utm_adcontent             295701 non-null  object\n",
      " 19  utm_keyword               330225 non-null  object\n",
      " 20  device_category           338474 non-null  object\n",
      " 21  device_os                 338474 non-null  object\n",
      " 22  device_brand              311768 non-null  object\n",
      " 23  device_model              8987 non-null    object\n",
      " 24  device_screen_resolution  338474 non-null  object\n",
      " 25  device_browser            338474 non-null  object\n",
      " 26  geo_country               338474 non-null  object\n",
      " 27  geo_city                  338474 non-null  object\n",
      "dtypes: int64(2), object(26)\n",
      "memory usage: 72.3+ MB\n"
     ]
    }
   ],
   "source": [
    "# def collect_data()\n",
    "df1 = []\n",
    "df2 = []\n",
    "data_files1 = [f'{path}/skillbox_data/extra_data/ga_hits_new_2022-01-01.json',\n",
    "              f'{path}/skillbox_data/extra_data/ga_hits_new_2022-01-02.json',\n",
    "              f'{path}/skillbox_data/extra_data/ga_hits_new_2022-01-03.json', \n",
    "              f'{path}/skillbox_data/extra_data/ga_hits_new_2022-01-04.json',\n",
    "              f'{path}/skillbox_data/extra_data/ga_hits_new_2022-01-05.json']\n",
    "filename1 = ['ga_hits_new_2022-01-01', 'ga_hits_new_2022-01-02', 'ga_hits_new_2022-01-03', 'ga_hits_new_2022-01-04', 'ga_hits_new_2022-01-05']\n",
    "name = ['2022-01-01', '2022-01-02', '2022-01-03', '2022-01-04', '2022-01-05']\n",
    "for filename1 in data_files1:\n",
    "    with open(filename1) as json_file:\n",
    "        data = json.load(json_file)\n",
    "        for n in name:\n",
    "            if n in data:\n",
    "                df = pd.DataFrame.from_dict(data[n])\n",
    "                df1.append(df)\n",
    "df1 = pd.concat(df1)\n",
    "\n",
    "data_files2 = [f'{path}/skillbox_data/extra_data/ga_sessions_new_2022-01-01.json',\n",
    "              f'{path}/skillbox_data/extra_data/ga_sessions_new_2022-01-02.json',\n",
    "              f'{path}/skillbox_data/extra_data/ga_sessions_new_2022-01-03.json', \n",
    "              f'{path}/skillbox_data/extra_data/ga_sessions_new_2022-01-04.json',\n",
    "              f'{path}/skillbox_data/extra_data/ga_sessions_new_2022-01-05.json']\n",
    "filename2 = ['ga_sessions_new_2022-01-01', 'ga_sessions_new_2022-01-01', 'ga_sessions_new_2022-01-01', 'ga_sessions_new_2022-01-01', 'ga_sessions_new_2022-01-01']\n",
    "for filename2 in data_files2:\n",
    "    with open(filename2) as json_file:\n",
    "        data = json.load(json_file)\n",
    "        for n in name:\n",
    "            if n in data:\n",
    "                df = pd.DataFrame.from_dict(data[n])\n",
    "                df2.append(df)\n",
    "df2 = pd.concat(df2)\n",
    "df = pd.merge(left=df1, right=df2, on='session_id', how='inner')\n",
    "df.info()"
   ]
  },
  {
   "cell_type": "code",
   "execution_count": 27,
   "id": "e3ee0ee3",
   "metadata": {},
   "outputs": [],
   "source": [
    "def print_useful_rows_info(df):\n",
    "    print('Количество полностью заполненных объектов из всей выборки:', \n",
    "          len(df.dropna()))\n",
    "    print('Процент полностью заполненных объектов из всей выборки:', \n",
    "          round(len(df.dropna()) / len(df) * 100, 2))"
   ]
  },
  {
   "cell_type": "code",
   "execution_count": 31,
   "id": "9aff8ec8",
   "metadata": {
    "scrolled": true
   },
   "outputs": [
    {
     "name": "stdout",
     "output_type": "stream",
     "text": [
      "Количество полностью заполненных объектов из всей выборки: 284631\n",
      "Процент полностью заполненных объектов из всей выборки: 100.0\n"
     ]
    }
   ],
   "source": [
    "# def filter_data(df: pd.DataFrame)\n",
    "df_clean = df.copy()\n",
    "columns_to_drop = ['event_label', 'event_value', 'device_model', 'utm_keyword', 'hit_time', 'device_os', \n",
    "             'hit_referer', 'device_brand']\n",
    "df_clean = df_clean.drop(columns_to_drop, axis=1)\n",
    "df_clean = df_clean[~df_clean.utm_adcontent.isna()]\n",
    "df_clean = df_clean[~df_clean.utm_campaign.isna()]\n",
    "df_clean = df_clean[~df_clean.utm_source.isna()]\n",
    "print_useful_rows_info(df_clean)"
   ]
  },
  {
   "cell_type": "code",
   "execution_count": 32,
   "id": "91c8ad73",
   "metadata": {},
   "outputs": [
    {
     "name": "stdout",
     "output_type": "stream",
     "text": [
      "<class 'pandas.core.frame.DataFrame'>\n",
      "Index: 284631 entries, 2 to 338473\n",
      "Data columns (total 21 columns):\n",
      " #   Column                    Non-Null Count   Dtype              \n",
      "---  ------                    --------------   -----              \n",
      " 0   session_id                284631 non-null  object             \n",
      " 1   hit_date                  284631 non-null  datetime64[ns, UTC]\n",
      " 2   hit_number                284631 non-null  int64              \n",
      " 3   hit_type                  284631 non-null  object             \n",
      " 4   hit_page_path             284631 non-null  object             \n",
      " 5   event_category            284631 non-null  object             \n",
      " 6   event_action              284631 non-null  object             \n",
      " 7   client_id                 284631 non-null  object             \n",
      " 8   visit_date                284631 non-null  object             \n",
      " 9   visit_time                284631 non-null  object             \n",
      " 10  visit_number              284631 non-null  int64              \n",
      " 11  utm_source                284631 non-null  object             \n",
      " 12  utm_medium                284631 non-null  object             \n",
      " 13  utm_campaign              284631 non-null  object             \n",
      " 14  utm_adcontent             284631 non-null  object             \n",
      " 15  device_category           284631 non-null  object             \n",
      " 16  device_screen_resolution  284631 non-null  object             \n",
      " 17  device_browser            284631 non-null  object             \n",
      " 18  geo_country               284631 non-null  object             \n",
      " 19  geo_city                  284631 non-null  object             \n",
      " 20  visit_datetime            284631 non-null  datetime64[ns, UTC]\n",
      "dtypes: datetime64[ns, UTC](2), int64(2), object(17)\n",
      "memory usage: 47.8+ MB\n"
     ]
    }
   ],
   "source": [
    "# def normalize(df: pd.DataFrame)\n",
    "df_types = df_clean.copy()\n",
    "df_types['hit_date'] = pd.to_datetime(df_types['hit_date'], format='%Y-%m-%d', utc=True)\n",
    "df_types['visit_datetime'] = df['visit_date'] + \" \" + df['visit_time']\n",
    "df_types['visit_datetime'] = pd.to_datetime(df_types['visit_datetime'], format='%Y-%m-%d %H:%M:%S', utc=True)\n",
    "df_types['client_id'] = df_types['client_id'].astype(object)\n",
    "df_types.info()"
   ]
  },
  {
   "cell_type": "code",
   "execution_count": 38,
   "id": "50d731e3",
   "metadata": {},
   "outputs": [],
   "source": [
    "# def remove_outliers(df: pd.DataFrame)\n",
    "df_out = df_types.copy()\n",
    "def calculate_outliers(data):\n",
    "    q25 = data.quantile(0.25)\n",
    "    q75 = data.quantile(0.75)\n",
    "    iqr = q75 - q25\n",
    "    boundaries = (q25 - 1.5 * iqr, q75 + 1.5 * iqr)\n",
    "\n",
    "    return boundaries\n",
    "\n",
    "boundaries_hit_number = calculate_outliers(df_out['hit_number'])\n",
    "df_out.loc[df_out['hit_number'] < boundaries_hit_number[0], 'hit_number'] = round(boundaries_hit_number[0])\n",
    "df_out.loc[df_out['hit_number'] > boundaries_hit_number[1], 'hit_number'] = round(boundaries_hit_number[1])\n",
    "boundaries_visit_number = calculate_outliers(df_out['visit_number'])\n",
    "df_out.loc[df_out['visit_number'] < boundaries_visit_number[0], 'visit_number'] = round(boundaries_visit_number[0])\n",
    "df_out.loc[df_out['visit_number'] > boundaries_visit_number[1], 'visit_number'] = round(boundaries_visit_number[1])"
   ]
  },
  {
   "cell_type": "code",
   "execution_count": 43,
   "id": "6eabd0cc",
   "metadata": {},
   "outputs": [
    {
     "name": "stdout",
     "output_type": "stream",
     "text": [
      "<class 'pandas.core.frame.DataFrame'>\n",
      "Index: 284631 entries, 2 to 338473\n",
      "Data columns (total 23 columns):\n",
      " #   Column                    Non-Null Count   Dtype              \n",
      "---  ------                    --------------   -----              \n",
      " 0   session_id                284631 non-null  object             \n",
      " 1   hit_date                  284631 non-null  datetime64[ns, UTC]\n",
      " 2   hit_number                284631 non-null  int64              \n",
      " 3   hit_type                  284631 non-null  object             \n",
      " 4   hit_page_path             284631 non-null  object             \n",
      " 5   event_category            284631 non-null  object             \n",
      " 6   event_action              284631 non-null  object             \n",
      " 7   client_id                 284631 non-null  object             \n",
      " 8   visit_date                284631 non-null  object             \n",
      " 9   visit_time                284631 non-null  object             \n",
      " 10  visit_number              284631 non-null  int64              \n",
      " 11  utm_source                284631 non-null  object             \n",
      " 12  utm_medium                284631 non-null  object             \n",
      " 13  utm_campaign              284631 non-null  object             \n",
      " 14  utm_adcontent             284631 non-null  object             \n",
      " 15  device_category           284631 non-null  object             \n",
      " 16  device_screen_resolution  284631 non-null  object             \n",
      " 17  device_browser            284631 non-null  object             \n",
      " 18  geo_country               284631 non-null  object             \n",
      " 19  geo_city                  284631 non-null  object             \n",
      " 20  visit_datetime            284631 non-null  datetime64[ns, UTC]\n",
      " 21  hit_number_std            284631 non-null  float64            \n",
      " 22  visit_number_std          284631 non-null  float64            \n",
      "dtypes: datetime64[ns, UTC](2), float64(2), int64(2), object(17)\n",
      "memory usage: 52.1+ MB\n"
     ]
    }
   ],
   "source": [
    "# def standardization(df: pd.DataFrame)\n",
    "df_std = df_out.copy()\n",
    "data = df_std[['hit_number', 'visit_number']]\n",
    "std_scaler = StandardScaler()\n",
    "std_scaler.fit(data)\n",
    "std_scaled = std_scaler.transform(data)\n",
    "hit_number_std = std_scaled[0]\n",
    "visit_number_std = std_scaled[1]\n",
    "df_std[['hit_number_std', 'visit_number_std']] = std_scaled\n",
    "df_std.info()"
   ]
  },
  {
   "cell_type": "code",
   "execution_count": null,
   "id": "926019ae",
   "metadata": {},
   "outputs": [],
   "source": [
    "# def pipeline() -> None:\n",
    "df1 = []\n",
    "df2 = []\n",
    "data_files1 = [f'{path}/skillbox_data/extra_data/ga_hits_new_2022-01-01.json',\n",
    "              f'{path}/skillbox_data/extra_data/ga_hits_new_2022-01-02.json',\n",
    "              f'{path}/skillbox_data/extra_data/ga_hits_new_2022-01-03.json', \n",
    "              f'{path}/skillbox_data/extra_data/ga_hits_new_2022-01-04.json',\n",
    "              f'{path}/skillbox_data/extra_data/ga_hits_new_2022-01-05.json']\n",
    "filename1 = ['ga_hits_new_2022-01-01', 'ga_hits_new_2022-01-02', 'ga_hits_new_2022-01-03', 'ga_hits_new_2022-01-04', 'ga_hits_new_2022-01-05']\n",
    "name = ['2022-01-01', '2022-01-02', '2022-01-03', '2022-01-04', '2022-01-05']\n",
    "for filename1 in data_files1:\n",
    "    with open(filename1) as json_file:\n",
    "        data = json.load(json_file)\n",
    "        for n in name:\n",
    "            if n in data:\n",
    "                df = pd.DataFrame.from_dict(data[n])\n",
    "                df1.append(df)\n",
    "df1 = pd.concat(df1)\n",
    "\n",
    "data_files2 = [f'{path}/skillbox_data/extra_data/ga_sessions_new_2022-01-01.json',\n",
    "              f'{path}/skillbox_data/extra_data/ga_sessions_new_2022-01-02.json',\n",
    "              f'{path}/skillbox_data/extra_data/ga_sessions_new_2022-01-03.json', \n",
    "              f'{path}/skillbox_data/extra_data/ga_sessions_new_2022-01-04.json',\n",
    "              f'{path}/skillbox_data/extra_data/ga_sessions_new_2022-01-05.json']\n",
    "filename2 = ['ga_sessions_new_2022-01-01', 'ga_sessions_new_2022-01-01', 'ga_sessions_new_2022-01-01', 'ga_sessions_new_2022-01-01', 'ga_sessions_new_2022-01-01']\n",
    "for filename2 in data_files2:\n",
    "    with open(filename2) as json_file:\n",
    "        data = json.load(json_file)\n",
    "        for n in name:\n",
    "            if n in data:\n",
    "                df = pd.DataFrame.from_dict(data[n])\n",
    "                df2.append(df)\n",
    "df2 = pd.concat(df2)\n",
    "df = pd.merge(left=df1, right=df2, on='session_id', how='inner')\n",
    "\n",
    "numerical_features = make_column_selector(dtype_include=['int64', 'float64'])\n",
    "categorical_features = make_column_selector(dtype_include=object)\n",
    "\n",
    "numerical_transformer = Pipeline(steps=[\n",
    "    ('imputer', SimpleImputer(strategy='median')),\n",
    "    ('scaler', StandardScaler())\n",
    "])\n",
    "\n",
    "column_transformer = ColumnTransformer(transformers=[\n",
    "    ('numerical', numerical_transformer, numerical_features)\n",
    "])\n",
    "    \n",
    "preprocessor = Pipeline(steps=[    \n",
    "    ('filter', FunctionTransformer(filter_data)),\n",
    "    ('normalize', FunctionTransformer(normalize)),\n",
    "    ('outlier_remover', FunctionTransformer(remove_outliers))\n",
    "])\n",
    "\n",
    "df.to_csv(f'{path}/skillbox_data/df_extra.csv')\n",
    "\n",
    "if __name__ == '__main__':\n",
    "    pipeline()"
   ]
  }
 ],
 "metadata": {
  "kernelspec": {
   "display_name": "Python 3 (ipykernel)",
   "language": "python",
   "name": "python3"
  },
  "language_info": {
   "codemirror_mode": {
    "name": "ipython",
    "version": 3
   },
   "file_extension": ".py",
   "mimetype": "text/x-python",
   "name": "python",
   "nbconvert_exporter": "python",
   "pygments_lexer": "ipython3",
   "version": "3.11.5"
  }
 },
 "nbformat": 4,
 "nbformat_minor": 5
}
