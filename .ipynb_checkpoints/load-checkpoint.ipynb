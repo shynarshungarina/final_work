{
 "cells": [
  {
   "cell_type": "code",
   "execution_count": null,
   "id": "079075b9",
   "metadata": {},
   "outputs": [],
   "source": [
    "import pandas as pd\n",
    "import mysql.connector\n",
    "from mysql.connector import Error\n",
    "\n",
    "path = os.environ.get('PROJECT_PATH', '.')\n",
    "\n",
    "#def load():\n",
    "    \n",
    "json_data = pd.read_csv(f'{path}/skillbox_data/df_extra.csv')\n",
    "\n",
    "mydb = mysql.connector.connect(\n",
    "host=\"localhost\",\n",
    "user=\"root\",\n",
    "password=\"1FW$d4s5cvhTF\",\n",
    "database=\"sber_data\"\n",
    ")\n",
    "if conn.is_connected():\n",
    "    mycursor = mydb.cursor()\n",
    "    \n",
    "    for i,row in json_data.iterrows():\n",
    "        sql = \"INSERT INTO sber_data.ga_data VALUES (%s,%s,%s,%s,%s,%s,%s,%s,%s,%s,%s,%s,%s,%s,%s,%s,%s,%s,%s,%s,%s,%s,%s)\"\n",
    "        cursor.execute(sql, tuple(row))\n",
    "        print(\"Record inserted\")\n",
    "        mydb.commit()\n",
    "except Error as e:\n",
    "print(\"Error while connecting to MySQL\", e)\n",
    "\n",
    "if __name__ == '__main__':\n",
    "    load()"
   ]
  }
 ],
 "metadata": {
  "kernelspec": {
   "display_name": "Python 3 (ipykernel)",
   "language": "python",
   "name": "python3"
  },
  "language_info": {
   "codemirror_mode": {
    "name": "ipython",
    "version": 3
   },
   "file_extension": ".py",
   "mimetype": "text/x-python",
   "name": "python",
   "nbconvert_exporter": "python",
   "pygments_lexer": "ipython3",
   "version": "3.11.5"
  }
 },
 "nbformat": 4,
 "nbformat_minor": 5
}
